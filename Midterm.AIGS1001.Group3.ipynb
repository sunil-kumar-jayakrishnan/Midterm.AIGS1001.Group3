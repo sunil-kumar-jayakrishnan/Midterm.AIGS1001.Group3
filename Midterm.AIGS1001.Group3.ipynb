{
 "cells": [
  {
   "cell_type": "markdown",
   "id": "80941880-6042-4ae5-bb50-63ddf377b608",
   "metadata": {},
   "source": [
    "# Midterm.AIGS1001.Group3"
   ]
  },
  {
   "cell_type": "markdown",
   "id": "e13b5096-8d78-4499-83bf-1bbad012bfb0",
   "metadata": {},
   "source": [
    "### Q1 "
   ]
  },
  {
   "cell_type": "code",
   "execution_count": 3,
   "id": "d7cb7bec-016b-45bc-a83c-1cefaa858229",
   "metadata": {},
   "outputs": [
    {
     "ename": "NameError",
     "evalue": "name 'read' is not defined",
     "output_type": "error",
     "traceback": [
      "\u001b[1;31m---------------------------------------------------------------------------\u001b[0m",
      "\u001b[1;31mNameError\u001b[0m                                 Traceback (most recent call last)",
      "\u001b[1;32mc:\\Users\\Jeevan\\Desktop\\stats modelling\\Midterm.AIGS1001.Group3.ipynb Cell 3\u001b[0m in \u001b[0;36m<cell line: 1>\u001b[1;34m()\u001b[0m\n\u001b[1;32m----> <a href='vscode-notebook-cell:/c%3A/Users/Jeevan/Desktop/stats%20modelling/Midterm.AIGS1001.Group3.ipynb#W2sZmlsZQ%3D%3D?line=0'>1</a>\u001b[0m Dat\u001b[39m=\u001b[39mread\u001b[39m.\u001b[39mtable(\u001b[39m\"\u001b[39m\u001b[39mGPA.txt\u001b[39m\u001b[39m\"\u001b[39m, header\u001b[39m=\u001b[39m F)\n\u001b[0;32m      <a href='vscode-notebook-cell:/c%3A/Users/Jeevan/Desktop/stats%20modelling/Midterm.AIGS1001.Group3.ipynb#W2sZmlsZQ%3D%3D?line=1'>2</a>\u001b[0m names(Dat)\u001b[39m<\u001b[39m\u001b[39m-\u001b[39mc(\u001b[39m\"\u001b[39m\u001b[39mGPA\u001b[39m\u001b[39m\"\u001b[39m,\u001b[39m\"\u001b[39m\u001b[39mACT\u001b[39m\u001b[39m\"\u001b[39m)\n\u001b[0;32m      <a href='vscode-notebook-cell:/c%3A/Users/Jeevan/Desktop/stats%20modelling/Midterm.AIGS1001.Group3.ipynb#W2sZmlsZQ%3D%3D?line=2'>3</a>\u001b[0m GPA \u001b[39m=\u001b[39m c(\u001b[39m\"\u001b[39m\u001b[39mGPA\u001b[39m\u001b[39m\"\u001b[39m)\n",
      "\u001b[1;31mNameError\u001b[0m: name 'read' is not defined"
     ]
    }
   ],
   "source": [
    "Dat=read.table(\"GPA.txt\", header= F)\n",
    "names(Dat)<-c(\"GPA\",\"ACT\")\n",
    "GPA = c(\"GPA\")\n",
    "ACT = c(\"ACT\")\n",
    "head(Dat, 20)"
   ]
  },
  {
   "cell_type": "markdown",
   "id": "07fc8541",
   "metadata": {},
   "source": [
    "# a)Explanatory variable is a type of independent variable. The two terms are often used interchangeably. But there is a subtle difference between the two. ACT test score is explanatory variable​."
   ]
  },
  {
   "cell_type": "code",
   "execution_count": null,
   "id": "2c8a5b8d",
   "metadata": {},
   "outputs": [],
   "source": [
    "# b) The mean of GPA is given below as-\n",
    "mean(Dat$GPA)"
   ]
  },
  {
   "cell_type": "code",
   "execution_count": null,
   "id": "7a72cf66",
   "metadata": {},
   "outputs": [
    {
     "data": {
      "text/html": [
       "3.07405"
      ],
      "text/latex": [
       "3.07405"
      ],
      "text/markdown": [
       "3.07405"
      ],
      "text/plain": [
       "[1] 3.07405"
      ]
     },
     "metadata": {},
     "output_type": "display_data"
    }
   ],
   "source": [
    "# c) The mean of the predicted value is given below as- \n",
    "\n",
    "mean(Dat$GPA)"
   ]
  },
  {
   "cell_type": "code",
   "execution_count": 2,
   "id": "a5688606",
   "metadata": {},
   "outputs": [
    {
     "ename": "SyntaxError",
     "evalue": "invalid syntax (1442505701.py, line 4)",
     "output_type": "error",
     "traceback": [
      "\u001b[1;36m  Input \u001b[1;32mIn [2]\u001b[1;36m\u001b[0m\n\u001b[1;33m    var(Dat$ACT)\u001b[0m\n\u001b[1;37m           ^\u001b[0m\n\u001b[1;31mSyntaxError\u001b[0m\u001b[1;31m:\u001b[0m invalid syntax\n"
     ]
    }
   ],
   "source": [
    "# d) The variances of ACT and GPA \n",
    "\n",
    "# ACT \n",
    "var(Dat$ACT)\n",
    "\n",
    "#GPA\n",
    "var(Dat$GPA)\n"
   ]
  },
  {
   "cell_type": "code",
   "execution_count": 8,
   "id": "06e19a9a",
   "metadata": {},
   "outputs": [
    {
     "data": {
      "text/plain": [
       "\n",
       "\tPearson's product-moment correlation\n",
       "\n",
       "data:  Dat$ACT and Dat$ACT\n",
       "t = 515472965, df = 118, p-value < 2.2e-16\n",
       "alternative hypothesis: true correlation is not equal to 0\n",
       "95 percent confidence interval:\n",
       " 1 1\n",
       "sample estimates:\n",
       "cor \n",
       "  1 \n"
      ]
     },
     "metadata": {},
     "output_type": "display_data"
    }
   ],
   "source": [
    " # e)\n",
    " cor.test(Dat$ACT, Dat$ACT)"
   ]
  },
  {
   "cell_type": "markdown",
   "id": "5d34bf55",
   "metadata": {},
   "source": [
    "# for contrasting autonomous variable(explanatory variable) without help from anyone else. The co relationship will continuously be 1. 1 implies that a solid positive connection and shows that y increments with x."
   ]
  },
  {
   "cell_type": "code",
   "execution_count": 9,
   "id": "c6a3548b-7cbd-40f3-ac10-04f89210fd3b",
   "metadata": {},
   "outputs": [
    {
     "data": {
      "text/html": [
       "<table>\n",
       "<thead><tr><th></th><th scope=col>GPA</th><th scope=col>ACT</th></tr></thead>\n",
       "<tbody>\n",
       "\t<tr><th scope=row>GPA</th><td>1.0000000</td><td>0.2694818</td></tr>\n",
       "\t<tr><th scope=row>ACT</th><td>0.2694818</td><td>1.0000000</td></tr>\n",
       "</tbody>\n",
       "</table>\n"
      ],
      "text/latex": [
       "\\begin{tabular}{r|ll}\n",
       "  & GPA & ACT\\\\\n",
       "\\hline\n",
       "\tGPA & 1.0000000 & 0.2694818\\\\\n",
       "\tACT & 0.2694818 & 1.0000000\\\\\n",
       "\\end{tabular}\n"
      ],
      "text/markdown": [
       "\n",
       "| <!--/--> | GPA | ACT |\n",
       "|---|---|---|\n",
       "| GPA | 1.0000000 | 0.2694818 |\n",
       "| ACT | 0.2694818 | 1.0000000 |\n",
       "\n"
      ],
      "text/plain": [
       "    GPA       ACT      \n",
       "GPA 1.0000000 0.2694818\n",
       "ACT 0.2694818 1.0000000"
      ]
     },
     "metadata": {},
     "output_type": "display_data"
    }
   ],
   "source": [
    "cor(Dat)"
   ]
  },
  {
   "cell_type": "code",
   "execution_count": 10,
   "id": "8707346e",
   "metadata": {},
   "outputs": [
    {
     "data": {
      "text/plain": [
       "\n",
       "\tPearson's product-moment correlation\n",
       "\n",
       "data:  Dat$ACT and Dat$GPA\n",
       "t = 3.0398, df = 118, p-value = 0.002917\n",
       "alternative hypothesis: true correlation is not equal to 0\n",
       "95 percent confidence interval:\n",
       " 0.09482051 0.42804747\n",
       "sample estimates:\n",
       "      cor \n",
       "0.2694818 \n"
      ]
     },
     "metadata": {},
     "output_type": "display_data"
    }
   ],
   "source": [
    "#f)\n",
    "cor.test(Dat$ACT, Dat$GPA)"
   ]
  },
  {
   "cell_type": "markdown",
   "id": "44852aa7",
   "metadata": {},
   "source": [
    "#  cor is 0.2694818 "
   ]
  },
  {
   "cell_type": "markdown",
   "id": "f0a84e8e",
   "metadata": {},
   "source": [
    "# g) The end that we produced using ACT and GPA is that since co relation is 0.2694818, which is shut to 0 intends that there is little relationship between the two factors, ACT and GPA."
   ]
  },
  {
   "cell_type": "markdown",
   "id": "8d85a034",
   "metadata": {},
   "source": [
    "# h) We can address the straight forward linear regression model as y= mx+b, where y = dependent variable (GPA), x = independent variable (ACT), and b is the intercept and m is slope."
   ]
  },
  {
   "cell_type": "code",
   "execution_count": 11,
   "id": "391f79be",
   "metadata": {},
   "outputs": [
    {
     "data": {
      "text/plain": [
       "\n",
       "Call:\n",
       "lm(formula = GPA ~ ACT, data = Dat)\n",
       "\n",
       "Coefficients:\n",
       "(Intercept)          ACT  \n",
       "    2.11405      0.03883  \n"
      ]
     },
     "metadata": {},
     "output_type": "display_data"
    }
   ],
   "source": [
    "# i) Fitting a simple linear regression using lm()"
   ]
  },
  {
   "cell_type": "code",
   "execution_count": null,
   "id": "4cbe7b9c",
   "metadata": {},
   "outputs": [],
   "source": [
    "regModel <- lm(GPA ~ ACT, data = Dat) #regress defense on attack\n",
    "regModel"
   ]
  },
  {
   "cell_type": "markdown",
   "id": "353ec970",
   "metadata": {},
   "source": [
    "# j) Involving the outcomes in 3.i, we can construe that the sope m = 0.03883, also, the y intercept = 2.11405"
   ]
  },
  {
   "cell_type": "code",
   "execution_count": 12,
   "id": "60b9b68b-f2e7-42b3-bb11-403696b5b4b7",
   "metadata": {},
   "outputs": [
    {
     "data": {
      "image/png": "[encoded data removed]",
      "text/plain": [
       "plot without title"
      ]
     },
     "metadata": {},
     "output_type": "display_data"
    }
   ],
   "source": [
    "# k)\n",
    "plot(Dat$ACT, Dat$GPA)\n",
    "abline(regModel$coef[1], regModel$coef[2], col = \"red\", lwd = 2)"
   ]
  },
  {
   "cell_type": "markdown",
   "id": "b48223ad-620c-4282-a25b-b46c71b0899d",
   "metadata": {},
   "source": [
    "# l) As the ACT rises, the GPA rises, as seen by the positive slope of the fitted model."
   ]
  },
  {
   "cell_type": "markdown",
   "id": "33bdf30a",
   "metadata": {},
   "source": [
    "# m) In the training of linear regresion model, hypothesis testing is finished to decide if the connection between the reaction and every one of the indicator factors is measurably huge. The coefficients connected with every one of the predictor variables is not entirely set in stone. Then, individual hypothesis tests are finished to decide if the connection among relation and that specific indicator variable is genuinely critical in light of the example information utilized for preparing the model. Assuming something like one of the invalid speculations is dismissed, it addresses the way that there exists no connection among reaction and that specific predictor variable. T-stats is utilized for playing out the speculation testing in light of the fact that the standard deviation of the examining dissemination is obscure. The worth of T-stats is contrasted and the basic worth from the T-distribution table to come to a conclusion about whether to acknowledge or dismiss the invalid speculation with respect to the connection between the reaction and indicator factors. On the off chance that the worth falls in the basic area, the invalid hypothesis is dismissed which really intends that there is no connection among response and that predictor variable. Notwithstanding T-tests, F-test is performed to test the nullhypothesis that the linear regression model doesn't exist and that the worth of the multitude of coefficients is zero."
   ]
  },
  {
   "cell_type": "code",
   "execution_count": 13,
   "id": "a875179a-454c-4723-9869-18a856199567",
   "metadata": {},
   "outputs": [
    {
     "data": {
      "text/plain": [
       "             Df Sum Sq Mean Sq F value  Pr(>F)   \n",
       "Dat$ACT       1   3.59   3.588    9.24 0.00292 **\n",
       "Residuals   118  45.82   0.388                   \n",
       "---\n",
       "Signif. codes:  0 '***' 0.001 '**' 0.01 '*' 0.05 '.' 0.1 ' ' 1"
      ]
     },
     "metadata": {},
     "output_type": "display_data"
    }
   ],
   "source": [
    "#n\n",
    "oneway = aov(Dat$GPA ~ Dat$ACT, data=Dat)\n",
    "summary(oneway)"
   ]
  },
  {
   "cell_type": "markdown",
   "id": "bbf78a16-44c0-47e7-b01c-3f69e2232b64",
   "metadata": {},
   "source": [
    "# MSE of independent variable is: 3.588\n",
    "# MSE of Residuals is: 0.388"
   ]
  },
  {
   "cell_type": "markdown",
   "id": "54716391-8885-4187-94cb-e190ed2c7ef8",
   "metadata": {},
   "source": [
    "# O)\n",
    "# It is actually the case that the t-test is utilized to analyze the method for the mean of two populations, while f-test is utilized to look at the comparison of two population variances.\n",
    "# A t-test is a type of the factual speculation test, in view of student's t-statistic and t-distribution to figure out the p-value(likelihood) which can be utilized to acknowledge or dismiss the null hypothesis.\n",
    "# F-test is utilized to test in the event that the information adjusts to a regression model, which is gained through least square examination."
   ]
  },
  {
   "cell_type": "code",
   "execution_count": 14,
   "id": "46855732-dbe9-4cbe-b238-a3143c3b1f94",
   "metadata": {},
   "outputs": [
    {
     "data": {
      "text/plain": [
       "\n",
       "Call:\n",
       "lm(formula = GPA ~ ACT, data = Dat)\n",
       "\n",
       "Residuals:\n",
       "     Min       1Q   Median       3Q      Max \n",
       "-2.74004 -0.33827  0.04062  0.44064  1.22737 \n",
       "\n",
       "Coefficients:\n",
       "            Estimate Std. Error t value Pr(>|t|)    \n",
       "(Intercept)  2.11405    0.32089   6.588  1.3e-09 ***\n",
       "ACT          0.03883    0.01277   3.040  0.00292 ** \n",
       "---\n",
       "Signif. codes:  0 '***' 0.001 '**' 0.01 '*' 0.05 '.' 0.1 ' ' 1\n",
       "\n",
       "Residual standard error: 0.6231 on 118 degrees of freedom\n",
       "Multiple R-squared:  0.07262,\tAdjusted R-squared:  0.06476 \n",
       "F-statistic:  9.24 on 1 and 118 DF,  p-value: 0.002917\n"
      ]
     },
     "metadata": {},
     "output_type": "display_data"
    }
   ],
   "source": [
    "# p) Proportion of variation in GPA\n",
    "summary(regModel)"
   ]
  },
  {
   "cell_type": "markdown",
   "id": "d77fed75-9c47-4740-af45-d0c7a7171f81",
   "metadata": {},
   "source": [
    "# Multiple R-squared: 0.07262"
   ]
  },
  {
   "cell_type": "code",
   "execution_count": 15,
   "id": "3c3c041c-8a2e-4987-b624-4445fffe2709",
   "metadata": {},
   "outputs": [
    {
     "data": {
      "text/plain": [
       "\n",
       "Call:\n",
       "lm(formula = Dat$GPA ~ 1, data = Dat_filtered)\n",
       "\n",
       "Residuals:\n",
       "     Min       1Q   Median       3Q      Max \n",
       "-2.57405 -0.38530  0.00345  0.51920  0.92595 \n",
       "\n",
       "Coefficients:\n",
       "            Estimate Std. Error t value Pr(>|t|)    \n",
       "(Intercept)  3.07405    0.05882   52.26   <2e-16 ***\n",
       "---\n",
       "Signif. codes:  0 '***' 0.001 '**' 0.01 '*' 0.05 '.' 0.1 ' ' 1\n",
       "\n",
       "Residual standard error: 0.6443 on 119 degrees of freedom\n"
      ]
     },
     "metadata": {},
     "output_type": "display_data"
    }
   ],
   "source": [
    "# q)\n",
    "Dat_filtered <- Dat[Dat$ACT == 28,]\n",
    "model_28 <- lm(Dat$GPA ~ 1, Dat_filtered)\n",
    "summary(model_28)"
   ]
  },
  {
   "cell_type": "code",
   "execution_count": 16,
   "id": "22776ac8-d2e3-4630-a133-4d138af3b2a4",
   "metadata": {},
   "outputs": [
    {
     "data": {
      "text/plain": [
       "      GPA             ACT    \n",
       " Min.   :2.420   Min.   :28  \n",
       " 1st Qu.:3.100   1st Qu.:28  \n",
       " Median :3.676   Median :28  \n",
       " Mean   :3.469   Mean   :28  \n",
       " 3rd Qu.:3.788   3rd Qu.:28  \n",
       " Max.   :4.000   Max.   :28  "
      ]
     },
     "metadata": {},
     "output_type": "display_data"
    }
   ],
   "source": [
    "summary(Dat_filtered)"
   ]
  },
  {
   "cell_type": "code",
   "execution_count": 17,
   "id": "52545298-22fa-4796-9118-97810ec2c7e2",
   "metadata": {},
   "outputs": [
    {
     "data": {
      "text/html": [
       "<table>\n",
       "<thead><tr><th></th><th scope=col>GPA</th><th scope=col>ACT</th></tr></thead>\n",
       "<tbody>\n",
       "\t<tr><th scope=row>3</th><td>3.778</td><td>28   </td></tr>\n",
       "\t<tr><th scope=row>23</th><td>3.731</td><td>28   </td></tr>\n",
       "\t<tr><th scope=row>25</th><td>3.556</td><td>28   </td></tr>\n",
       "\t<tr><th scope=row>27</th><td>2.420</td><td>28   </td></tr>\n",
       "\t<tr><th scope=row>33</th><td>2.929</td><td>28   </td></tr>\n",
       "\t<tr><th scope=row>79</th><td>4.000</td><td>28   </td></tr>\n",
       "</tbody>\n",
       "</table>\n"
      ],
      "text/latex": [
       "\\begin{tabular}{r|ll}\n",
       "  & GPA & ACT\\\\\n",
       "\\hline\n",
       "\t3 & 3.778 & 28   \\\\\n",
       "\t23 & 3.731 & 28   \\\\\n",
       "\t25 & 3.556 & 28   \\\\\n",
       "\t27 & 2.420 & 28   \\\\\n",
       "\t33 & 2.929 & 28   \\\\\n",
       "\t79 & 4.000 & 28   \\\\\n",
       "\\end{tabular}\n"
      ],
      "text/markdown": [
       "\n",
       "| <!--/--> | GPA | ACT |\n",
       "|---|---|---|\n",
       "| 3 | 3.778 | 28    |\n",
       "| 23 | 3.731 | 28    |\n",
       "| 25 | 3.556 | 28    |\n",
       "| 27 | 2.420 | 28    |\n",
       "| 33 | 2.929 | 28    |\n",
       "| 79 | 4.000 | 28    |\n",
       "\n"
      ],
      "text/plain": [
       "   GPA   ACT\n",
       "3  3.778 28 \n",
       "23 3.731 28 \n",
       "25 3.556 28 \n",
       "27 2.420 28 \n",
       "33 2.929 28 \n",
       "79 4.000 28 "
      ]
     },
     "metadata": {},
     "output_type": "display_data"
    }
   ],
   "source": [
    "head(Dat_filtered)"
   ]
  },
  {
   "cell_type": "code",
   "execution_count": 18,
   "id": "bb9a7759-f991-47c2-810b-9f16d7608833",
   "metadata": {},
   "outputs": [
    {
     "data": {
      "text/html": [
       "<table>\n",
       "<thead><tr><th></th><th scope=col>2.5 %</th><th scope=col>97.5 %</th></tr></thead>\n",
       "<tbody>\n",
       "\t<tr><th scope=row>(Intercept)</th><td>2.957581</td><td>3.190519</td></tr>\n",
       "</tbody>\n",
       "</table>\n"
      ],
      "text/latex": [
       "\\begin{tabular}{r|ll}\n",
       "  & 2.5 \\% & 97.5 \\%\\\\\n",
       "\\hline\n",
       "\t(Intercept) & 2.957581 & 3.190519\\\\\n",
       "\\end{tabular}\n"
      ],
      "text/markdown": [
       "\n",
       "| <!--/--> | 2.5 % | 97.5 % |\n",
       "|---|---|---|\n",
       "| (Intercept) | 2.957581 | 3.190519 |\n",
       "\n"
      ],
      "text/plain": [
       "            2.5 %    97.5 %  \n",
       "(Intercept) 2.957581 3.190519"
      ]
     },
     "metadata": {},
     "output_type": "display_data"
    }
   ],
   "source": [
    "confint(model_28, level = 0.95)"
   ]
  },
  {
   "cell_type": "code",
   "execution_count": null,
   "id": "81ff293f-3b55-446e-b024-f17b9be90032",
   "metadata": {},
   "outputs": [],
   "source": []
  }
 ],
 "metadata": {
  "kernelspec": {
   "display_name": "rstudio",
   "language": "python",
   "name": "python3"
  },
  "language_info": {
   "codemirror_mode": {
    "name": "ipython",
    "version": 3
   },
   "file_extension": ".py",
   "mimetype": "text/x-python",
   "name": "python",
   "nbconvert_exporter": "python",
   "pygments_lexer": "ipython3"
  },
  "vscode": {
   "interpreter": {
    "hash": "25a19fbe0a9132dfb9279d48d161753c6352f8f9478c2e74383d340069b907c3"
   }
  }
 },
 "nbformat": 4,
 "nbformat_minor": 5
}
